{
 "cells": [
  {
   "cell_type": "markdown",
   "metadata": {},
   "source": [
    "# Numba vs. Cython\n",
    "\n",
    "- [Numba vs. Cython: Take 2 | Pythonic Perambulations](https://jakevdp.github.io/blog/2013/06/15/numba-vs-cython-take-2/)"
   ]
  },
  {
   "cell_type": "markdown",
   "metadata": {},
   "source": [
    "## install numba"
   ]
  },
  {
   "cell_type": "code",
   "execution_count": 7,
   "metadata": {},
   "outputs": [
    {
     "name": "stdout",
     "output_type": "stream",
     "text": [
      "Requirement already satisfied: numba in /home/allenyl/anaconda3/lib/python3.6/site-packages (0.38.0)\n",
      "Requirement already satisfied: llvmlite>=0.23.0dev0 in /home/allenyl/anaconda3/lib/python3.6/site-packages (from numba) (0.23.1)\n",
      "Requirement already satisfied: numpy in /home/allenyl/anaconda3/lib/python3.6/site-packages (from numba) (1.15.1)\n",
      "\u001b[33mYou are using pip version 18.0, however version 19.0.2 is available.\n",
      "You should consider upgrading via the 'pip install --upgrade pip' command.\u001b[0m\n"
     ]
    }
   ],
   "source": [
    "!pip install numba"
   ]
  },
  {
   "cell_type": "markdown",
   "metadata": {},
   "source": [
    "## generate random data"
   ]
  },
  {
   "cell_type": "code",
   "execution_count": 8,
   "metadata": {},
   "outputs": [],
   "source": [
    "import numpy as np\n",
    "X = np.random.random((1000, 3))"
   ]
  },
  {
   "cell_type": "code",
   "execution_count": 9,
   "metadata": {},
   "outputs": [
    {
     "data": {
      "text/plain": [
       "array([[0.22548044, 0.53801418, 0.92863162],\n",
       "       [0.07979443, 0.870694  , 0.96241506],\n",
       "       [0.65025958, 0.01420609, 0.93848249],\n",
       "       ...,\n",
       "       [0.8137684 , 0.63743494, 0.98231675],\n",
       "       [0.31523107, 0.38802229, 0.37124034],\n",
       "       [0.40879012, 0.57537738, 0.40982374]])"
      ]
     },
     "execution_count": 9,
     "metadata": {},
     "output_type": "execute_result"
    }
   ],
   "source": [
    "X"
   ]
  },
  {
   "cell_type": "code",
   "execution_count": 10,
   "metadata": {},
   "outputs": [
    {
     "data": {
      "text/plain": [
       "array([[[0.22548044, 0.53801418, 0.92863162]],\n",
       "\n",
       "       [[0.07979443, 0.870694  , 0.96241506]],\n",
       "\n",
       "       [[0.65025958, 0.01420609, 0.93848249]],\n",
       "\n",
       "       ...,\n",
       "\n",
       "       [[0.8137684 , 0.63743494, 0.98231675]],\n",
       "\n",
       "       [[0.31523107, 0.38802229, 0.37124034]],\n",
       "\n",
       "       [[0.40879012, 0.57537738, 0.40982374]]])"
      ]
     },
     "execution_count": 10,
     "metadata": {},
     "output_type": "execute_result"
    }
   ],
   "source": [
    "X[:,None,:]"
   ]
  },
  {
   "cell_type": "code",
   "execution_count": 11,
   "metadata": {},
   "outputs": [
    {
     "data": {
      "text/plain": [
       "array([[[ 0.        ,  0.        ,  0.        ],\n",
       "        [ 0.14568602, -0.33267982, -0.03378344],\n",
       "        [-0.42477914,  0.52380809, -0.00985087],\n",
       "        ...,\n",
       "        [-0.58828795, -0.09942076, -0.05368513],\n",
       "        [-0.08975063,  0.14999189,  0.55739128],\n",
       "        [-0.18330967, -0.03736321,  0.51880788]],\n",
       "\n",
       "       [[-0.14568602,  0.33267982,  0.03378344],\n",
       "        [ 0.        ,  0.        ,  0.        ],\n",
       "        [-0.57046515,  0.85648791,  0.02393257],\n",
       "        ...,\n",
       "        [-0.73397397,  0.23325906, -0.01990169],\n",
       "        [-0.23543664,  0.48267172,  0.59117472],\n",
       "        [-0.32899569,  0.29531662,  0.55259132]],\n",
       "\n",
       "       [[ 0.42477914, -0.52380809,  0.00985087],\n",
       "        [ 0.57046515, -0.85648791, -0.02393257],\n",
       "        [ 0.        ,  0.        ,  0.        ],\n",
       "        ...,\n",
       "        [-0.16350881, -0.62322885, -0.04383426],\n",
       "        [ 0.33502851, -0.3738162 ,  0.56724215],\n",
       "        [ 0.24146947, -0.5611713 ,  0.52865875]],\n",
       "\n",
       "       ...,\n",
       "\n",
       "       [[ 0.58828795,  0.09942076,  0.05368513],\n",
       "        [ 0.73397397, -0.23325906,  0.01990169],\n",
       "        [ 0.16350881,  0.62322885,  0.04383426],\n",
       "        ...,\n",
       "        [ 0.        ,  0.        ,  0.        ],\n",
       "        [ 0.49853732,  0.24941266,  0.61107641],\n",
       "        [ 0.40497828,  0.06205756,  0.57249301]],\n",
       "\n",
       "       [[ 0.08975063, -0.14999189, -0.55739128],\n",
       "        [ 0.23543664, -0.48267172, -0.59117472],\n",
       "        [-0.33502851,  0.3738162 , -0.56724215],\n",
       "        ...,\n",
       "        [-0.49853732, -0.24941266, -0.61107641],\n",
       "        [ 0.        ,  0.        ,  0.        ],\n",
       "        [-0.09355905, -0.1873551 , -0.0385834 ]],\n",
       "\n",
       "       [[ 0.18330967,  0.03736321, -0.51880788],\n",
       "        [ 0.32899569, -0.29531662, -0.55259132],\n",
       "        [-0.24146947,  0.5611713 , -0.52865875],\n",
       "        ...,\n",
       "        [-0.40497828, -0.06205756, -0.57249301],\n",
       "        [ 0.09355905,  0.1873551 ,  0.0385834 ],\n",
       "        [ 0.        ,  0.        ,  0.        ]]])"
      ]
     },
     "execution_count": 11,
     "metadata": {},
     "output_type": "execute_result"
    }
   ],
   "source": [
    "X[:, None, :] - X"
   ]
  },
  {
   "cell_type": "markdown",
   "metadata": {},
   "source": [
    "## Numpy Boardcasting version of pairwise distance"
   ]
  },
  {
   "cell_type": "code",
   "execution_count": 12,
   "metadata": {},
   "outputs": [
    {
     "name": "stdout",
     "output_type": "stream",
     "text": [
      "23.7 ms ± 205 µs per loop (mean ± std. dev. of 7 runs, 10 loops each)\n"
     ]
    }
   ],
   "source": [
    "def pairwise_numpy(X):\n",
    "    return np.sqrt(((X[:, None, :] - X) ** 2).sum(-1))\n",
    "%timeit pairwise_numpy(X)"
   ]
  },
  {
   "cell_type": "markdown",
   "metadata": {},
   "source": [
    "## Pure Python for-loop version of pairwise distance"
   ]
  },
  {
   "cell_type": "code",
   "execution_count": 15,
   "metadata": {},
   "outputs": [
    {
     "name": "stdout",
     "output_type": "stream",
     "text": [
      "2.29 s ± 11.6 ms per loop (mean ± std. dev. of 7 runs, 1 loop each)\n"
     ]
    }
   ],
   "source": [
    "def pairwise_python(X):\n",
    "    M = X.shape[0]\n",
    "    N = X.shape[1]\n",
    "    D = np.empty((M, M), dtype=np.float)\n",
    "    for i in range(M):\n",
    "        for j in range(M):\n",
    "            d = 0.0\n",
    "            for k in range(N):\n",
    "                tmp = X[i, k] - X[j, k]\n",
    "                d += tmp * tmp\n",
    "            D[i, j] = np.sqrt(d)\n",
    "    return D\n",
    "%timeit pairwise_python(X)"
   ]
  },
  {
   "cell_type": "markdown",
   "metadata": {},
   "source": [
    "## Numba version of pairwise distance"
   ]
  },
  {
   "cell_type": "code",
   "execution_count": 16,
   "metadata": {},
   "outputs": [
    {
     "name": "stdout",
     "output_type": "stream",
     "text": [
      "2.66 ms ± 17.5 µs per loop (mean ± std. dev. of 7 runs, 1 loop each)\n"
     ]
    }
   ],
   "source": [
    "from numba import double\n",
    "from numba.decorators import jit, autojit\n",
    "\n",
    "pairwise_numba = autojit(pairwise_python)\n",
    "\n",
    "%timeit pairwise_numba(X)"
   ]
  },
  {
   "cell_type": "markdown",
   "metadata": {},
   "source": [
    "## Cython version of pairwise distance\n",
    "\n",
    "- [Cython in Ipython: ERROR: Cell magic `%%cython` not found - Stack Overflow](https://stackoverflow.com/questions/36514338/cython-in-ipython-error-cell-magic-cython-not-found)"
   ]
  },
  {
   "cell_type": "code",
   "execution_count": 20,
   "metadata": {},
   "outputs": [],
   "source": [
    "%load_ext Cython"
   ]
  },
  {
   "cell_type": "code",
   "execution_count": 21,
   "metadata": {},
   "outputs": [],
   "source": [
    "%%cython\n",
    "\n",
    "import numpy as np\n",
    "cimport cython\n",
    "from libc.math cimport sqrt\n",
    "\n",
    "@cython.boundscheck(False)\n",
    "@cython.wraparound(False)\n",
    "def pairwise_cython(double[:, ::1] X):\n",
    "    cdef int M = X.shape[0]\n",
    "    cdef int N = X.shape[1]\n",
    "    cdef double tmp, d\n",
    "    cdef double[:, ::1] D = np.empty((M, M), dtype=np.float64)\n",
    "    for i in range(M):\n",
    "        for j in range(M):\n",
    "            d = 0.0\n",
    "            for k in range(N):\n",
    "                tmp = X[i, k] - X[j, k]\n",
    "                d += tmp * tmp\n",
    "            D[i, j] = sqrt(d)\n",
    "    return np.asarray(D)"
   ]
  },
  {
   "cell_type": "code",
   "execution_count": 22,
   "metadata": {},
   "outputs": [
    {
     "name": "stdout",
     "output_type": "stream",
     "text": [
      "2.85 ms ± 7.14 µs per loop (mean ± std. dev. of 7 runs, 100 loops each)\n"
     ]
    }
   ],
   "source": [
    "%timeit pairwise_cython(X)"
   ]
  },
  {
   "cell_type": "code",
   "execution_count": null,
   "metadata": {},
   "outputs": [],
   "source": []
  },
  {
   "cell_type": "code",
   "execution_count": null,
   "metadata": {},
   "outputs": [],
   "source": []
  },
  {
   "cell_type": "code",
   "execution_count": 26,
   "metadata": {},
   "outputs": [],
   "source": []
  },
  {
   "cell_type": "code",
   "execution_count": 35,
   "metadata": {},
   "outputs": [
    {
     "name": "stdout",
     "output_type": "stream",
     "text": [
      "100\n"
     ]
    }
   ],
   "source": []
  },
  {
   "cell_type": "code",
   "execution_count": null,
   "metadata": {},
   "outputs": [],
   "source": []
  }
 ],
 "metadata": {
  "kernelspec": {
   "display_name": "Python 3",
   "language": "python",
   "name": "python3"
  },
  "language_info": {
   "codemirror_mode": {
    "name": "ipython",
    "version": 3
   },
   "file_extension": ".py",
   "mimetype": "text/x-python",
   "name": "python",
   "nbconvert_exporter": "python",
   "pygments_lexer": "ipython3",
   "version": "3.6.7"
  }
 },
 "nbformat": 4,
 "nbformat_minor": 2
}
