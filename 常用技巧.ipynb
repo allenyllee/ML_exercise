{
 "cells": [
  {
   "cell_type": "markdown",
   "metadata": {},
   "source": [
    "### random seed的作用範圍"
   ]
  },
  {
   "cell_type": "code",
   "execution_count": 1,
   "metadata": {},
   "outputs": [
    {
     "name": "stdout",
     "output_type": "stream",
     "text": [
      "4.0\n",
      "123.0\n"
     ]
    }
   ],
   "source": [
    "import numpy as np\n",
    "\n",
    "np.random.seed(44)\n",
    "\n",
    "ll = [3.2,77,4535,123,4]\n",
    "\n",
    "print(np.random.choice(ll))\n",
    "print(np.random.choice(ll))"
   ]
  },
  {
   "cell_type": "code",
   "execution_count": 3,
   "metadata": {},
   "outputs": [
    {
     "data": {
      "text/plain": [
       "2"
      ]
     },
     "execution_count": 3,
     "metadata": {},
     "output_type": "execute_result"
    }
   ],
   "source": [
    "# in [11]\n",
    "import numpy as np\n",
    "# even if I set the seed here the other cells don't see it\n",
    "np.random.seed(333)\n",
    "np.random.choice([1,23,44,3,2])"
   ]
  },
  {
   "cell_type": "code",
   "execution_count": null,
   "metadata": {},
   "outputs": [],
   "source": []
  },
  {
   "cell_type": "markdown",
   "metadata": {},
   "source": [
    "### 建立一個 dict 包含 array，且每個 array 是獨立的 copy，修改某一個不會改到其他的"
   ]
  },
  {
   "cell_type": "code",
   "execution_count": 4,
   "metadata": {},
   "outputs": [
    {
     "data": {
      "text/plain": [
       "defaultdict(list, {'max': [array([[0., 0., 0., 0., 0.],\n",
       "                     [0., 5., 0., 0., 0.],\n",
       "                     [0., 0., 0., 0., 0.],\n",
       "                     [0., 0., 0., 0., 0.],\n",
       "                     [0., 0., 0., 0., 0.]])],\n",
       "             'min': [array([[0., 0., 0., 0., 0.],\n",
       "                     [0., 0., 0., 0., 0.],\n",
       "                     [0., 0., 0., 0., 0.],\n",
       "                     [0., 0., 0., 0., 0.],\n",
       "                     [0., 0., 0., 0., 0.]])],\n",
       "             'avg': [array([[0., 0., 0., 0., 0.],\n",
       "                     [0., 0., 0., 0., 0.],\n",
       "                     [0., 0., 0., 0., 0.],\n",
       "                     [0., 0., 0., 0., 0.],\n",
       "                     [0., 0., 0., 0., 0.]])]})"
      ]
     },
     "execution_count": 4,
     "metadata": {},
     "output_type": "execute_result"
    }
   ],
   "source": [
    "import numpy as np\n",
    "my_grid =  np.zeros((5, 5))\n",
    "\n",
    "parse = \"max\",\"min\",\"avg\"\n",
    "\n",
    "from collections import defaultdict\n",
    "\n",
    "GridMetric = defaultdict(list)\n",
    "for arg in parse:\n",
    "    GridMetric[arg].append(my_grid.copy())\n",
    "    \n",
    "GridMetric['max'][0][1][1]=5\n",
    "GridMetric"
   ]
  },
  {
   "cell_type": "code",
   "execution_count": null,
   "metadata": {},
   "outputs": [],
   "source": []
  },
  {
   "cell_type": "code",
   "execution_count": null,
   "metadata": {},
   "outputs": [],
   "source": []
  },
  {
   "cell_type": "markdown",
   "metadata": {},
   "source": [
    "### dict 中，如果key不存在時會報錯，因此要先檢查key是否存在"
   ]
  },
  {
   "cell_type": "code",
   "execution_count": 5,
   "metadata": {},
   "outputs": [],
   "source": [
    "key_values = [('even',2),('odd',1),('even',8),('odd',3),('float',2.4),('odd',7)]\n",
    "\n",
    "multi_dict = {}\n",
    "for key,value in key_values:\n",
    "    if key not in multi_dict:\n",
    "        multi_dict[key] = [value]\n",
    "    else:\n",
    "        multi_dict[key].append(value)"
   ]
  },
  {
   "cell_type": "code",
   "execution_count": 6,
   "metadata": {},
   "outputs": [
    {
     "data": {
      "text/plain": [
       "{'even': [2, 8], 'odd': [1, 3, 7], 'float': [2.4]}"
      ]
     },
     "execution_count": 6,
     "metadata": {},
     "output_type": "execute_result"
    }
   ],
   "source": [
    "multi_dict"
   ]
  },
  {
   "cell_type": "code",
   "execution_count": null,
   "metadata": {},
   "outputs": [],
   "source": []
  },
  {
   "cell_type": "markdown",
   "metadata": {},
   "source": [
    "### x[1:] 相當於 x[:-1] 往後shift一個，因此如果要做數列前後相加除以二，可用 0.5 * (x[:-1] + x[1:])"
   ]
  },
  {
   "cell_type": "code",
   "execution_count": null,
   "metadata": {},
   "outputs": [],
   "source": [
    "import numpy as np\n",
    "import matplotlib.pyplot as plt\n",
    "from matplotlib.collections import LineCollection\n",
    "from matplotlib.colors import ListedColormap, BoundaryNorm\n",
    "\n",
    "x = np.linspace(0, 3 * np.pi, 500)\n",
    "y = np.sin(x)\n",
    "dydx = np.cos(0.5 * (x[:-1] + x[1:]))  # first derivative"
   ]
  },
  {
   "cell_type": "code",
   "execution_count": null,
   "metadata": {},
   "outputs": [],
   "source": [
    "x[:-1]"
   ]
  },
  {
   "cell_type": "code",
   "execution_count": null,
   "metadata": {},
   "outputs": [],
   "source": [
    "x[1:]"
   ]
  },
  {
   "cell_type": "code",
   "execution_count": null,
   "metadata": {},
   "outputs": [],
   "source": []
  }
 ],
 "metadata": {
  "kernelspec": {
   "display_name": "Python 3",
   "language": "python",
   "name": "python3"
  },
  "language_info": {
   "codemirror_mode": {
    "name": "ipython",
    "version": 3
   },
   "file_extension": ".py",
   "mimetype": "text/x-python",
   "name": "python",
   "nbconvert_exporter": "python",
   "pygments_lexer": "ipython3",
   "version": "3.6.7"
  }
 },
 "nbformat": 4,
 "nbformat_minor": 2
}
